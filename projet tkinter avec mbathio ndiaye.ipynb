{
 "cells": [
  {
   "cell_type": "code",
   "execution_count": null,
   "id": "11c79d66",
   "metadata": {},
   "outputs": [],
   "source": [
    "import tkinter as tk\n",
    "\n",
    "def show_teacher_count():\n",
    "    teachers_label.config(text=\"Nombre de professeurs : 15\")\n",
    "\n",
    "def show_classroom_count():\n",
    "    classrooms_label.config(text=\"Nombre de salles de classe : 10\")\n",
    "\n",
    "def show_admin_count():\n",
    "    admin_label.config(text=\"Nombre de bureaux d'administration : 3\")\n",
    "\n",
    "def show_semester_count():\n",
    "    semesters_label.config(text=\"Nombre de semestres par année : 2\")\n",
    "\n",
    "def show_homework_per_week():\n",
    "    homework_label.config(text=\"Devoirs par semaine : Oui\")\n",
    "\n",
    "root = tk.Tk()\n",
    "root.title(\"Gestionnaire d'école isepdiamniadio\")\n",
    "\n",
    "logo = tk.PhotoImage(file=\"logo.png\")\n",
    "logo_label = tk.Label(root, image=logo)\n",
    "logo_label.pack(side=\"top\", fill=\"both\", expand=True)\n",
    "\n",
    "teachers_button = tk.Button(root, text=\"Nombre de professeurs\", command=show_teacher_count)\n",
    "teachers_button.pack()\n",
    "\n",
    "teachers_label = tk.Label(root, text=\"\")\n",
    "teachers_label.pack()\n",
    "\n",
    "classrooms_button = tk.Button(root, text=\"Nombre de salles de classe\", command=show_classroom_count)\n",
    "classrooms_button.pack()\n",
    "\n",
    "classrooms_label = tk.Label(root, text=\"\")\n",
    "classrooms_label.pack()\n",
    "\n",
    "admin_button = tk.Button(root, text=\"Nombre de bureaux d'administration\", command=show_admin_count)\n",
    "admin_button.pack()\n",
    "\n",
    "admin_label = tk.Label(root, text=\"\")\n",
    "admin_label.pack()\n",
    "\n",
    "semesters_button = tk.Button(root, text=\"Nombre de semestres par année\", command=show_semester_count)\n",
    "semesters_button.pack()\n",
    "\n",
    "semesters_label = tk.Label(root, text=\"\")\n",
    "semesters_label.pack()\n",
    "\n",
    "homework_button = tk.Button(root, text=\"Devoirs par semaine\", command=show_homework_per_week)\n",
    "homework_button.pack()\n",
    "\n",
    "homework_label = tk.Label(root, text=\"\")\n",
    "homework_label.pack()\n",
    "\n",
    "root.mainloop()"
   ]
  },
  {
   "cell_type": "code",
   "execution_count": null,
   "id": "33f0a3f2",
   "metadata": {},
   "outputs": [],
   "source": []
  }
 ],
 "metadata": {
  "kernelspec": {
   "display_name": "Python 3 (ipykernel)",
   "language": "python",
   "name": "python3"
  },
  "language_info": {
   "codemirror_mode": {
    "name": "ipython",
    "version": 3
   },
   "file_extension": ".py",
   "mimetype": "text/x-python",
   "name": "python",
   "nbconvert_exporter": "python",
   "pygments_lexer": "ipython3",
   "version": "3.9.12"
  }
 },
 "nbformat": 4,
 "nbformat_minor": 5
}
